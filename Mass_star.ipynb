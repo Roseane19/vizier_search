{
 "cells": [
  {
   "cell_type": "code",
   "execution_count": 14,
   "id": "41b6489f",
   "metadata": {},
   "outputs": [],
   "source": [
    "from astroquery.vizier import Vizier\n",
    "from astropy.table import Table\n",
    "from astropy import units as u\n",
    "import pandas as pd\n",
    "import numpy as np"
   ]
  },
  {
   "cell_type": "code",
   "execution_count": 10,
   "id": "54f09ad6",
   "metadata": {},
   "outputs": [
    {
     "name": "stdout",
     "output_type": "stream",
     "text": [
      "TableList with 27 tables:\n",
      "\t'0:IV/38/tic' with 1 column(s) and 3 row(s) \n",
      "\t'1:IV/39/tic82' with 1 column(s) and 3 row(s) \n",
      "\t'2:J/ApJ/834/17/table1' with 1 column(s) and 1 row(s) \n",
      "\t'3:J/ApJ/834/85/table1' with 1 column(s) and 1 row(s) \n",
      "\t'4:J/ApJ/890/23/table1' with 1 column(s) and 1 row(s) \n",
      "\t'5:J/ApJ/891/58/table6' with 1 column(s) and 1 row(s) \n",
      "\t'6:J/ApJ/902/115/table1' with 1 column(s) and 1 row(s) \n",
      "\t'7:J/ApJS/247/11/table5' with 1 column(s) and 1 row(s) \n",
      "\t'8:J/ApJS/266/6/table3' with 1 column(s) and 1 row(s) \n",
      "\t'9:J/A+A/505/859/targets' with 1 column(s) and 1 row(s) \n",
      "\t'10:J/A+A/551/A36/table2' with 1 column(s) and 1 row(s) \n",
      "\t'11:J/A+A/600/A13/tablea3' with 1 column(s) and 1 row(s) \n",
      "\t'12:J/A+A/624/A94/tablea1' with 1 column(s) and 1 row(s) \n",
      "\t'13:J/A+A/638/A20/tableb1' with 1 column(s) and 1 row(s) \n",
      "\t'14:J/A+A/640/A83/table' with 1 column(s) and 5 row(s) \n",
      "\t'15:J/A+A/644/A68/tablea1' with 1 column(s) and 1 row(s) \n",
      "\t'16:J/A+A/661/A23/tableb1' with 1 column(s) and 1 row(s) \n",
      "\t'17:J/A+A/675/A168/tableb1' with 1 column(s) and 1 row(s) \n",
      "\t'18:J/A+A/678/A96/tableg1' with 1 column(s) and 1 row(s) \n",
      "\t'19:J/AJ/159/18/table2' with 1 column(s) and 1 row(s) \n",
      "\t'20:J/AJ/161/63/table3' with 1 column(s) and 1 row(s) \n",
      "\t'21:J/AJ/165/34/table1' with 1 column(s) and 1 row(s) \n",
      "\t'22:J/AJ/165/168/table2' with 1 column(s) and 1 row(s) \n",
      "\t'23:J/AJ/165/265/table1' with 1 column(s) and 1 row(s) \n",
      "\t'24:J/AJ/165/267/table1' with 1 column(s) and 1 row(s) \n",
      "\t'25:J/AJ/166/16/table1' with 1 column(s) and 1 row(s) \n",
      "\t'26:J/MNRAS/485/3999/tablea1' with 1 column(s) and 1 row(s) \n"
     ]
    },
    {
     "name": "stderr",
     "output_type": "stream",
     "text": [
      "WARNING: UnitsWarning: Unit 'x' not supported by the VOUnit standard.  [astropy.units.format.vounit]\n"
     ]
    }
   ],
   "source": [
    "single_star = 'proxima centauri'\n",
    "\n",
    "column_mass = Vizier(columns=['Mass'])\n",
    "tables_mass = column_mass.query_object(single_star, radius= 2 *u.arcsec)\n",
    "\n",
    "print(tables_mass)"
   ]
  },
  {
   "cell_type": "code",
   "execution_count": 15,
   "id": "75c7f06e",
   "metadata": {},
   "outputs": [
    {
     "name": "stdout",
     "output_type": "stream",
     "text": [
      "['proxima centauri', 'sirius']\n"
     ]
    }
   ],
   "source": [
    "# Read the Excel file\n",
    "excel_file = 'Mass_stars_sample.xlsx'\n",
    "sheet_name = 'sample'  \n",
    "column_name = 'target'  \n",
    "\n",
    "# Load the data from the Excel file\n",
    "data = pd.read_excel(excel_file, sheet_name=sheet_name)\n",
    "\n",
    "# Extract stars from the specified column\n",
    "stars = data[column_name].tolist()\n",
    "\n",
    "#Check if you list of stars is correct\n",
    "print(stars)"
   ]
  },
  {
   "cell_type": "code",
   "execution_count": 22,
   "id": "191269bd",
   "metadata": {},
   "outputs": [
    {
     "name": "stdout",
     "output_type": "stream",
     "text": [
      "     Target        Mass  s_Mass ...         id table            id catalog   \n",
      "---------------- ------- ------ ... ------------------------ ----------------\n",
      "proxima centauri     nan    nan ...                IV/38/tic            IV/38\n",
      "proxima centauri     nan    nan ...                IV/38/tic            IV/38\n",
      "proxima centauri   0.126   0.02 ...                IV/38/tic            IV/38\n",
      "proxima centauri     nan    nan ...              IV/39/tic82            IV/39\n",
      "proxima centauri     nan    nan ...              IV/39/tic82            IV/39\n",
      "proxima centauri   0.126   0.02 ...              IV/39/tic82            IV/39\n",
      "proxima centauri   0.118    nan ...      J/ApJ/834/17/table1     J/ApJ/834/17\n",
      "proxima centauri   0.119    nan ...      J/ApJ/834/85/table1     J/ApJ/834/85\n",
      "proxima centauri    0.12    nan ...      J/ApJ/890/23/table1     J/ApJ/890/23\n",
      "proxima centauri 0.12563    nan ...      J/ApJ/891/58/table6     J/ApJ/891/58\n",
      "             ...     ...    ... ...                      ...              ...\n",
      "proxima centauri    1.27    nan ...       J/AJ/165/34/table1      J/AJ/165/34\n",
      "proxima centauri    0.12    nan ...      J/AJ/165/168/table2     J/AJ/165/168\n",
      "proxima centauri   0.122    nan ...      J/AJ/165/265/table1     J/AJ/165/265\n",
      "proxima centauri   0.117    nan ...      J/AJ/165/267/table1     J/AJ/165/267\n",
      "proxima centauri   0.122    nan ...       J/AJ/166/16/table1      J/AJ/166/16\n",
      "proxima centauri    1.27    nan ... J/MNRAS/485/3999/tablea1 J/MNRAS/485/3999\n",
      "          sirius     nan    nan ...                IV/38/tic            IV/38\n",
      "          sirius     nan    nan ...              IV/39/tic82            IV/39\n",
      "          sirius     nan    nan ...     J/ApJS/266/11/table6    J/ApJS/266/11\n",
      "          sirius    2.15    nan ...     J/A+A/352/555/table1    J/A+A/352/555\n",
      "          sirius     2.0    nan ...     J/A+A/533/A107/stars   J/A+A/533/A107\n",
      "Length = 40 rows\n"
     ]
    },
    {
     "name": "stderr",
     "output_type": "stream",
     "text": [
      "WARNING: UnitsWarning: Unit 'x' not supported by the VOUnit standard.  [astropy.units.format.vounit]\n"
     ]
    }
   ],
   "source": [
    "combined_table = Table(names=['Target', 'Mass','s_Mass', 'Mass unit','Description', 'id table', 'id catalog'],\n",
    "                      dtype =('U100', 'f', 'f', 'U20', 'U100', 'U100', 'U100'))\n",
    "\n",
    "for star in stars:\n",
    "    star_mass = Vizier(columns=['Mass', 's_Mass'])\n",
    "    tables = star_mass.query_object(star, radius=2*u.arcsec)\n",
    "    \n",
    "    if not tables:\n",
    "        combined_table.add_row([str(star), np.nan, np.nan, str(np.nan), str(np.nan), str(np.nan), str(np.nan)])\n",
    "        \n",
    "    else:\n",
    "        description_id = str(tables)\n",
    "        table_names = [line.split()[0][1:-1] for line in description_id.split(\"\\n\")[1:]]\n",
    "        id_table = [name.split(':')[1].strip() for name in table_names]\n",
    "        id_catalog = [\"/\".join(item.split(\"/\")[:-1]) for item in id_table]\n",
    "        \n",
    "        for i, table in enumerate(tables):\n",
    "            \n",
    "            for row in table:\n",
    "                mass_value = row['Mass']\n",
    "                uncertainty_value = row['s_Mass'] if 's_Mass' in row.colnames else np.nan\n",
    "                \n",
    "                if mass_value and mass_value != '--':\n",
    "                    mass = float(mass_value)\n",
    "                else: \n",
    "                    mass = np.nan\n",
    "                    \n",
    "                if uncertainty_value and uncertainty_value != '--':\n",
    "                    uncertainty_mass = float(uncertainty_value)\n",
    "                else:\n",
    "                    uncertainty_mass = np.nan\n",
    "                \n",
    "                each_table = tables[i]\n",
    "                unit_mass = str(each_table['Mass'].unit)\n",
    "                description = str(each_table['Mass'].description)\n",
    "                \n",
    "                combined_table.add_row([str(star), mass, uncertainty_mass, unit_mass, \n",
    "                                        description, id_table[i], id_catalog[i]])\n",
    "                \n",
    "print(combined_table)"
   ]
  },
  {
   "cell_type": "code",
   "execution_count": 23,
   "id": "a8e1b917",
   "metadata": {},
   "outputs": [
    {
     "data": {
      "text/html": [
       "<div><i>Table length=40</i>\n",
       "<table id=\"table2529931673168\" class=\"table-striped table-bordered table-condensed\">\n",
       "<thead><tr><th>Target</th><th>Mass</th><th>s_Mass</th><th>Mass unit</th><th>Description</th><th>id table</th><th>id catalog</th></tr></thead>\n",
       "<thead><tr><th>str100</th><th>float32</th><th>float32</th><th>str20</th><th>str100</th><th>str100</th><th>str100</th></tr></thead>\n",
       "<tr><td>proxima centauri</td><td>nan</td><td>nan</td><td>solMass</td><td>[0.08/3.3]? Mass (20)</td><td>IV/38/tic</td><td>IV/38</td></tr>\n",
       "<tr><td>proxima centauri</td><td>nan</td><td>nan</td><td>solMass</td><td>[0.08/3.3]? Mass (20)</td><td>IV/38/tic</td><td>IV/38</td></tr>\n",
       "<tr><td>proxima centauri</td><td>0.126</td><td>0.02</td><td>solMass</td><td>[0.08/3.3]? Mass (20)</td><td>IV/38/tic</td><td>IV/38</td></tr>\n",
       "<tr><td>proxima centauri</td><td>nan</td><td>nan</td><td>solMass</td><td>[0.08/3.3]? Mass (17)</td><td>IV/39/tic82</td><td>IV/39</td></tr>\n",
       "<tr><td>proxima centauri</td><td>nan</td><td>nan</td><td>solMass</td><td>[0.08/3.3]? Mass (17)</td><td>IV/39/tic82</td><td>IV/39</td></tr>\n",
       "<tr><td>proxima centauri</td><td>0.126</td><td>0.02</td><td>solMass</td><td>[0.08/3.3]? Mass (17)</td><td>IV/39/tic82</td><td>IV/39</td></tr>\n",
       "<tr><td>proxima centauri</td><td>0.118</td><td>nan</td><td>None</td><td>[0.0003/318] Mass</td><td>J/ApJ/834/17/table1</td><td>J/ApJ/834/17</td></tr>\n",
       "<tr><td>proxima centauri</td><td>0.119</td><td>nan</td><td>solMass</td><td>[0.05/0.9] Stellar mass</td><td>J/ApJ/834/85/table1</td><td>J/ApJ/834/85</td></tr>\n",
       "<tr><td>proxima centauri</td><td>0.12</td><td>nan</td><td>solMass</td><td>[0.01/23.6]? Stellar mass</td><td>J/ApJ/890/23/table1</td><td>J/ApJ/890/23</td></tr>\n",
       "<tr><td>proxima centauri</td><td>0.12563</td><td>nan</td><td>solMass</td><td>[0.08/]? Stellar mass (1)</td><td>J/ApJ/891/58/table6</td><td>J/ApJ/891/58</td></tr>\n",
       "<tr><td>...</td><td>...</td><td>...</td><td>...</td><td>...</td><td>...</td><td>...</td></tr>\n",
       "<tr><td>proxima centauri</td><td>0.12</td><td>nan</td><td>solMass</td><td>[0.09/1.2]? Stellar mass</td><td>J/AJ/165/168/table2</td><td>J/AJ/165/168</td></tr>\n",
       "<tr><td>proxima centauri</td><td>0.122</td><td>nan</td><td>solMass</td><td>[0.1/0.3] Mass</td><td>J/AJ/165/265/table1</td><td>J/AJ/165/265</td></tr>\n",
       "<tr><td>proxima centauri</td><td>0.117</td><td>nan</td><td>solMass</td><td>[0.08/2.45] Stellar mass</td><td>J/AJ/165/267/table1</td><td>J/AJ/165/267</td></tr>\n",
       "<tr><td>proxima centauri</td><td>0.122</td><td>nan</td><td>solMass</td><td>[0.1/0.29] Stellar mass, solar units</td><td>J/AJ/166/16/table1</td><td>J/AJ/166/16</td></tr>\n",
       "<tr><td>proxima centauri</td><td>1.27</td><td>nan</td><td>(5.97236x10+24kg)</td><td>Planet mass</td><td>J/MNRAS/485/3999/tablea1</td><td>J/MNRAS/485/3999</td></tr>\n",
       "<tr><td>sirius</td><td>nan</td><td>nan</td><td>solMass</td><td>[0.08/3.3]? Mass (20)</td><td>IV/38/tic</td><td>IV/38</td></tr>\n",
       "<tr><td>sirius</td><td>nan</td><td>nan</td><td>solMass</td><td>[0.08/3.3]? Mass (17)</td><td>IV/39/tic82</td><td>IV/39</td></tr>\n",
       "<tr><td>sirius</td><td>nan</td><td>nan</td><td>solMass</td><td>[0.6/8.9]? Stellar mass</td><td>J/ApJS/266/11/table6</td><td>J/ApJS/266/11</td></tr>\n",
       "<tr><td>sirius</td><td>2.15</td><td>nan</td><td>solMass</td><td>Mass</td><td>J/A+A/352/555/table1</td><td>J/A+A/352/555</td></tr>\n",
       "<tr><td>sirius</td><td>2.0</td><td>nan</td><td>solMass</td><td>Mass</td><td>J/A+A/533/A107/stars</td><td>J/A+A/533/A107</td></tr>\n",
       "</table></div>"
      ],
      "text/plain": [
       "<Table length=40>\n",
       "     Target        Mass   s_Mass ...         id table            id catalog   \n",
       "     str100      float32 float32 ...          str100               str100     \n",
       "---------------- ------- ------- ... ------------------------ ----------------\n",
       "proxima centauri     nan     nan ...                IV/38/tic            IV/38\n",
       "proxima centauri     nan     nan ...                IV/38/tic            IV/38\n",
       "proxima centauri   0.126    0.02 ...                IV/38/tic            IV/38\n",
       "proxima centauri     nan     nan ...              IV/39/tic82            IV/39\n",
       "proxima centauri     nan     nan ...              IV/39/tic82            IV/39\n",
       "proxima centauri   0.126    0.02 ...              IV/39/tic82            IV/39\n",
       "proxima centauri   0.118     nan ...      J/ApJ/834/17/table1     J/ApJ/834/17\n",
       "proxima centauri   0.119     nan ...      J/ApJ/834/85/table1     J/ApJ/834/85\n",
       "proxima centauri    0.12     nan ...      J/ApJ/890/23/table1     J/ApJ/890/23\n",
       "proxima centauri 0.12563     nan ...      J/ApJ/891/58/table6     J/ApJ/891/58\n",
       "             ...     ...     ... ...                      ...              ...\n",
       "proxima centauri    0.12     nan ...      J/AJ/165/168/table2     J/AJ/165/168\n",
       "proxima centauri   0.122     nan ...      J/AJ/165/265/table1     J/AJ/165/265\n",
       "proxima centauri   0.117     nan ...      J/AJ/165/267/table1     J/AJ/165/267\n",
       "proxima centauri   0.122     nan ...       J/AJ/166/16/table1      J/AJ/166/16\n",
       "proxima centauri    1.27     nan ... J/MNRAS/485/3999/tablea1 J/MNRAS/485/3999\n",
       "          sirius     nan     nan ...                IV/38/tic            IV/38\n",
       "          sirius     nan     nan ...              IV/39/tic82            IV/39\n",
       "          sirius     nan     nan ...     J/ApJS/266/11/table6    J/ApJS/266/11\n",
       "          sirius    2.15     nan ...     J/A+A/352/555/table1    J/A+A/352/555\n",
       "          sirius     2.0     nan ...     J/A+A/533/A107/stars   J/A+A/533/A107"
      ]
     },
     "execution_count": 23,
     "metadata": {},
     "output_type": "execute_result"
    }
   ],
   "source": [
    "combined_table"
   ]
  },
  {
   "cell_type": "code",
   "execution_count": 20,
   "id": "4d0c3217",
   "metadata": {},
   "outputs": [
    {
     "name": "stdout",
     "output_type": "stream",
     "text": [
      "Excel file 'Mass_stars_sample.xlsx' has been saved.\n"
     ]
    }
   ],
   "source": [
    "# Convert the Astropy table to a Pandas DataFrame\n",
    "combined_df = combined_table.to_pandas()\n",
    "\n",
    "# Specify the file path where you want to save the Excel file\n",
    "excel_file_path = 'Mass_stars.xlsx'\n",
    "\n",
    "# Save the DataFrame to an Excel file\n",
    "combined_df.to_excel(excel_file_path, sheet_name='test', index=False)\n",
    "\n",
    "print(f\"Excel file '{excel_file_path}' has been saved.\")"
   ]
  },
  {
   "cell_type": "code",
   "execution_count": null,
   "id": "deccc4df",
   "metadata": {},
   "outputs": [],
   "source": []
  }
 ],
 "metadata": {
  "kernelspec": {
   "display_name": "Python 3 (ipykernel)",
   "language": "python",
   "name": "python3"
  },
  "language_info": {
   "codemirror_mode": {
    "name": "ipython",
    "version": 3
   },
   "file_extension": ".py",
   "mimetype": "text/x-python",
   "name": "python",
   "nbconvert_exporter": "python",
   "pygments_lexer": "ipython3",
   "version": "3.11.5"
  }
 },
 "nbformat": 4,
 "nbformat_minor": 5
}
